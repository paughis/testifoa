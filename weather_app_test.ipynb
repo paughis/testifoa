{
 "cells": [
  {
   "cell_type": "code",
   "execution_count": 3,
   "id": "4902c753",
   "metadata": {},
   "outputs": [
    {
     "data": {
      "text/plain": [
       "True"
      ]
     },
     "execution_count": 3,
     "metadata": {},
     "output_type": "execute_result"
    }
   ],
   "source": [
    "import streamlit as st\n",
    "import os\n",
    "from dotenv import load_dotenv\n",
    "import requests\n",
    "\n",
    "load_dotenv()"
   ]
  },
  {
   "cell_type": "code",
   "execution_count": 4,
   "id": "bc55e94e",
   "metadata": {},
   "outputs": [],
   "source": [
    "API_key = os.getenv('api_key')"
   ]
  },
  {
   "cell_type": "code",
   "execution_count": 5,
   "id": "84fc984a",
   "metadata": {},
   "outputs": [],
   "source": [
    "city_name = 'Santiago'"
   ]
  },
  {
   "cell_type": "code",
   "execution_count": 6,
   "id": "21cc75db",
   "metadata": {},
   "outputs": [],
   "source": [
    "url = f'https://api.openweathermap.org/data/2.5/weather?q={city_name}&appid={API_key}'\n",
    "result = requests.get(url)\n",
    "json = result.json()"
   ]
  },
  {
   "cell_type": "code",
   "execution_count": 7,
   "id": "dd638d8a",
   "metadata": {},
   "outputs": [],
   "source": [
    "# Variabili\n",
    "\n",
    "temp = round(json['main']['temp'] - 273.15)\n",
    "feelslike = round(json['main']['feels_like'] - 273.15)\n",
    "temp_min = round(json['main']['temp_min'] - 273.15)\n",
    "sunrise = json['sys']['sunrise']\n",
    "sunset = json['sys']['sunset']"
   ]
  },
  {
   "cell_type": "code",
   "execution_count": 8,
   "id": "a7292e57",
   "metadata": {},
   "outputs": [
    {
     "name": "stdout",
     "output_type": "stream",
     "text": [
      "Temperatura attuale (°C) = 18\n",
      "Temperatura percepita (°C) = 17\n",
      "Temperatura minima = 15\n",
      "sunrise = 1747135544\n",
      "sunset =  1747173136\n"
     ]
    }
   ],
   "source": [
    "print('Temperatura attuale (°C) =' , temp)\n",
    "print('Temperatura percepita (°C) =' , feelslike)\n",
    "print('Temperatura minima =' , temp_min)\n",
    "print('sunrise =' , sunrise)\n",
    "print('sunset = ' , sunset)"
   ]
  },
  {
   "cell_type": "code",
   "execution_count": 9,
   "id": "09c39992",
   "metadata": {},
   "outputs": [],
   "source": [
    "API_key = os.getenv('api_key')\n",
    "\n",
    "def obtain_data(city_name):\n",
    "    url = f'https://api.openweathermap.org/data/2.5/weather?q={city_name}&appid={API_key}'\n",
    "    result = requests.get(url)\n",
    "    json = result.json()\n",
    "\n",
    "    return json"
   ]
  },
  {
   "cell_type": "code",
   "execution_count": 10,
   "id": "146a9dbf",
   "metadata": {},
   "outputs": [
    {
     "data": {
      "text/plain": [
       "{'coord': {'lon': 11.4333, 'lat': 44.4667},\n",
       " 'weather': [{'id': 803,\n",
       "   'main': 'Clouds',\n",
       "   'description': 'broken clouds',\n",
       "   'icon': '04d'}],\n",
       " 'base': 'stations',\n",
       " 'main': {'temp': 294.29,\n",
       "  'feels_like': 294.1,\n",
       "  'temp_min': 293.85,\n",
       "  'temp_max': 294.76,\n",
       "  'pressure': 1014,\n",
       "  'humidity': 63,\n",
       "  'sea_level': 1014,\n",
       "  'grnd_level': 998},\n",
       " 'visibility': 10000,\n",
       " 'wind': {'speed': 0.89, 'deg': 50, 'gust': 3.13},\n",
       " 'clouds': {'all': 66},\n",
       " 'dt': 1747149820,\n",
       " 'sys': {'type': 2,\n",
       "  'id': 2004497,\n",
       "  'country': 'IT',\n",
       "  'sunrise': 1747108148,\n",
       "  'sunset': 1747161133},\n",
       " 'timezone': 7200,\n",
       " 'id': 3181927,\n",
       " 'name': 'Bologna',\n",
       " 'cod': 200}"
      ]
     },
     "execution_count": 10,
     "metadata": {},
     "output_type": "execute_result"
    }
   ],
   "source": [
    "obtain_data('Bologna')"
   ]
  },
  {
   "cell_type": "code",
   "execution_count": 11,
   "id": "6657fb6b",
   "metadata": {},
   "outputs": [],
   "source": [
    "def weather_info(city_name):\n",
    "    data = obtain_data(city_name)\n",
    "    temp = round(data['main']['temp'] - 273.15,2)\n",
    "    feelslike = round(data['main']['feels_like'] - 273.15,2)\n",
    "    temp_min = round(data['main']['temp_min'] - 273.15,2)\n",
    "    sunrise = data['sys']['sunrise']\n",
    "    sunset = data['sys']['sunset']\n",
    "    output = [temp,feelslike,temp_min,sunrise,sunset]\n",
    "\n",
    "    return  output"
   ]
  },
  {
   "cell_type": "code",
   "execution_count": 12,
   "id": "8e050af0",
   "metadata": {},
   "outputs": [
    {
     "data": {
      "text/plain": [
       "[22.26, 21.95, 21.73, 1747129197, 1747181791]"
      ]
     },
     "execution_count": 12,
     "metadata": {},
     "output_type": "execute_result"
    }
   ],
   "source": [
    "weather_info('Roma')"
   ]
  },
  {
   "cell_type": "code",
   "execution_count": 13,
   "id": "94b57f76",
   "metadata": {},
   "outputs": [],
   "source": [
    "temp = weather_info(city_name)[0]\n",
    "feelslike = weather_info(city_name)[1]\n",
    "temp_min = weather_info(city_name)[2]\n",
    "sunrise = weather_info(city_name)[3]\n",
    "sunset = weather_info(city_name)[4]"
   ]
  },
  {
   "cell_type": "code",
   "execution_count": 14,
   "id": "10bcfbf6",
   "metadata": {},
   "outputs": [
    {
     "data": {
      "text/plain": [
       "'13:25:44'"
      ]
     },
     "execution_count": 14,
     "metadata": {},
     "output_type": "execute_result"
    }
   ],
   "source": [
    "import datetime\n",
    "\n",
    "sunrise_time  = str(datetime.datetime.fromtimestamp(sunrise))\n",
    "sunrise_time  = sunrise_time.split()\n",
    "sunrise_time[1]"
   ]
  },
  {
   "cell_type": "code",
   "execution_count": 15,
   "id": "25b7dcfe",
   "metadata": {},
   "outputs": [],
   "source": [
    "import datetime\n",
    "import time\n",
    "\n",
    "def to_datetime(float_data):\n",
    "    hr = time.localtime(float_data).tm_hour\n",
    "    min = time.localtime(float_data).tm_min\n",
    "\n",
    "    return(f'{hr}:{min}')"
   ]
  },
  {
   "cell_type": "code",
   "execution_count": 16,
   "id": "24eb9e32",
   "metadata": {},
   "outputs": [
    {
     "data": {
      "text/plain": [
       "'11:39'"
      ]
     },
     "execution_count": 16,
     "metadata": {},
     "output_type": "execute_result"
    }
   ],
   "source": [
    "to_datetime(1747129197)"
   ]
  },
  {
   "cell_type": "code",
   "execution_count": 17,
   "id": "04ad147b",
   "metadata": {},
   "outputs": [],
   "source": [
    "# 'coord': {'lon': 11.4333, 'lat': 44.4667"
   ]
  },
  {
   "cell_type": "code",
   "execution_count": 20,
   "id": "a60ae2ae",
   "metadata": {},
   "outputs": [
    {
     "data": {
      "text/plain": [
       "-70.6483"
      ]
     },
     "execution_count": 20,
     "metadata": {},
     "output_type": "execute_result"
    }
   ],
   "source": [
    "json['coord']['lon']"
   ]
  },
  {
   "cell_type": "code",
   "execution_count": 22,
   "id": "625df4d6",
   "metadata": {},
   "outputs": [
    {
     "data": {
      "text/plain": [
       "-33.4569"
      ]
     },
     "execution_count": 22,
     "metadata": {},
     "output_type": "execute_result"
    }
   ],
   "source": [
    "json['coord']['lat']"
   ]
  },
  {
   "cell_type": "code",
   "execution_count": 19,
   "id": "69c01272",
   "metadata": {},
   "outputs": [
    {
     "ename": "NameError",
     "evalue": "name 'res' is not defined",
     "output_type": "error",
     "traceback": [
      "\u001b[1;31m---------------------------------------------------------------------------\u001b[0m",
      "\u001b[1;31mNameError\u001b[0m                                 Traceback (most recent call last)",
      "Cell \u001b[1;32mIn[19], line 2\u001b[0m\n\u001b[0;32m      1\u001b[0m \u001b[38;5;28;01mimport\u001b[39;00m \u001b[38;5;21;01mpandas\u001b[39;00m \u001b[38;5;28;01mas\u001b[39;00m \u001b[38;5;21;01mpd\u001b[39;00m\n\u001b[1;32m----> 2\u001b[0m st\u001b[38;5;241m.\u001b[39mmap(pd\u001b[38;5;241m.\u001b[39mDataFrame({\u001b[38;5;124m'\u001b[39m\u001b[38;5;124mlat\u001b[39m\u001b[38;5;124m'\u001b[39m : [\u001b[43mres\u001b[49m[\u001b[38;5;241m5\u001b[39m]] , \u001b[38;5;124m'\u001b[39m\u001b[38;5;124mlon\u001b[39m\u001b[38;5;124m'\u001b[39m : [res[\u001b[38;5;241m4\u001b[39m]]},columns \u001b[38;5;241m=\u001b[39m [\u001b[38;5;124m'\u001b[39m\u001b[38;5;124mlat\u001b[39m\u001b[38;5;124m'\u001b[39m,\u001b[38;5;124m'\u001b[39m\u001b[38;5;124mlon\u001b[39m\u001b[38;5;124m'\u001b[39m]))\n",
      "\u001b[1;31mNameError\u001b[0m: name 'res' is not defined"
     ]
    }
   ],
   "source": [
    "import pandas as pd\n",
    "st.map(pd.DataFrame({'lat' : [res[5]] , 'lon' : [res[4]]},columns = ['lat','lon']))"
   ]
  }
 ],
 "metadata": {
  "kernelspec": {
   "display_name": "Python 3",
   "language": "python",
   "name": "python3"
  },
  "language_info": {
   "codemirror_mode": {
    "name": "ipython",
    "version": 3
   },
   "file_extension": ".py",
   "mimetype": "text/x-python",
   "name": "python",
   "nbconvert_exporter": "python",
   "pygments_lexer": "ipython3",
   "version": "3.11.9"
  }
 },
 "nbformat": 4,
 "nbformat_minor": 5
}
