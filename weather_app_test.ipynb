{
 "cells": [
  {
   "cell_type": "code",
   "execution_count": null,
   "id": "4902c753",
   "metadata": {},
   "outputs": [
    {
     "data": {
      "text/plain": [
       "True"
      ]
     },
     "execution_count": 6,
     "metadata": {},
     "output_type": "execute_result"
    }
   ],
   "source": [
    "import streamlit as st\n",
    "import os\n",
    "from dotenv import load_dotenv\n",
    "import requests\n",
    "\n",
    "load_dotenv()"
   ]
  },
  {
   "cell_type": "code",
   "execution_count": 7,
   "id": "bc55e94e",
   "metadata": {},
   "outputs": [],
   "source": [
    "API_key = os.getenv('api_key')"
   ]
  },
  {
   "cell_type": "code",
   "execution_count": 8,
   "id": "84fc984a",
   "metadata": {},
   "outputs": [],
   "source": [
    "city_name = 'Santiago'"
   ]
  },
  {
   "cell_type": "code",
   "execution_count": 9,
   "id": "21cc75db",
   "metadata": {},
   "outputs": [],
   "source": [
    "url = f'https://api.openweathermap.org/data/2.5/weather?q={city_name}&appid={API_key}'\n",
    "result = requests.get(url)\n",
    "json = result.json()"
   ]
  },
  {
   "cell_type": "code",
   "execution_count": 10,
   "id": "dd638d8a",
   "metadata": {},
   "outputs": [],
   "source": [
    "# Variabili\n",
    "\n",
    "temp = round(json['main']['temp'] - 273.15)\n",
    "feelslike = round(json['main']['feels_like'] - 273.15)\n",
    "temp_min = round(json['main']['temp_min'] - 273.15)\n",
    "sunrise = json['sys']['sunrise']\n",
    "sunset = json['sys']['sunset']"
   ]
  },
  {
   "cell_type": "code",
   "execution_count": 11,
   "id": "a7292e57",
   "metadata": {},
   "outputs": [
    {
     "name": "stdout",
     "output_type": "stream",
     "text": [
      "Temperatura attuale (°C) = 15\n",
      "Temperatura percepita (°C) = 14\n",
      "Temperatura minima = 14\n",
      "sunrise = 1747135544\n",
      "sunset =  1747173136\n"
     ]
    }
   ],
   "source": [
    "print('Temperatura attuale (°C) =' , temp)\n",
    "print('Temperatura percepita (°C) =' , feelslike)\n",
    "print('Temperatura minima =' , temp_min)\n",
    "print('sunrise =' , sunrise)\n",
    "print('sunset = ' , sunset)"
   ]
  },
  {
   "cell_type": "code",
   "execution_count": 12,
   "id": "09c39992",
   "metadata": {},
   "outputs": [],
   "source": [
    "API_key = os.getenv('api_key')\n",
    "\n",
    "def obtain_data(city_name):\n",
    "    url = f'https://api.openweathermap.org/data/2.5/weather?q={city_name}&appid={API_key}'\n",
    "    result = requests.get(url)\n",
    "    json = result.json()\n",
    "\n",
    "    return json"
   ]
  },
  {
   "cell_type": "code",
   "execution_count": 13,
   "id": "146a9dbf",
   "metadata": {},
   "outputs": [
    {
     "data": {
      "text/plain": [
       "{'coord': {'lon': 11.4333, 'lat': 44.4667},\n",
       " 'weather': [{'id': 803,\n",
       "   'main': 'Clouds',\n",
       "   'description': 'broken clouds',\n",
       "   'icon': '04d'}],\n",
       " 'base': 'stations',\n",
       " 'main': {'temp': 293.67,\n",
       "  'feels_like': 293.53,\n",
       "  'temp_min': 293.17,\n",
       "  'temp_max': 294.76,\n",
       "  'pressure': 1014,\n",
       "  'humidity': 67,\n",
       "  'sea_level': 1014,\n",
       "  'grnd_level': 999},\n",
       " 'visibility': 10000,\n",
       " 'wind': {'speed': 1.79, 'deg': 58, 'gust': 4.92},\n",
       " 'clouds': {'all': 77},\n",
       " 'dt': 1747142423,\n",
       " 'sys': {'type': 2,\n",
       "  'id': 2004497,\n",
       "  'country': 'IT',\n",
       "  'sunrise': 1747108148,\n",
       "  'sunset': 1747161133},\n",
       " 'timezone': 7200,\n",
       " 'id': 3181927,\n",
       " 'name': 'Bologna',\n",
       " 'cod': 200}"
      ]
     },
     "execution_count": 13,
     "metadata": {},
     "output_type": "execute_result"
    }
   ],
   "source": [
    "obtain_data('Bologna')"
   ]
  },
  {
   "cell_type": "code",
   "execution_count": 14,
   "id": "6657fb6b",
   "metadata": {},
   "outputs": [],
   "source": [
    "def weather_info(city_name):\n",
    "    data = obtain_data(city_name)\n",
    "    temp = round(data['main']['temp'] - 273.15,2)\n",
    "    feelslike = round(data['main']['feels_like'] - 273.15,2)\n",
    "    temp_min = round(data['main']['temp_min'] - 273.15,2)\n",
    "    sunrise = data['sys']['sunrise']\n",
    "    sunset = data['sys']['sunset']\n",
    "    output = [temp,feelslike,temp_min,sunrise,sunset]\n",
    "\n",
    "    return  output"
   ]
  },
  {
   "cell_type": "code",
   "execution_count": 15,
   "id": "8e050af0",
   "metadata": {},
   "outputs": [
    {
     "data": {
      "text/plain": [
       "[19.46, 18.98, 18.95, 1747129197, 1747181791]"
      ]
     },
     "execution_count": 15,
     "metadata": {},
     "output_type": "execute_result"
    }
   ],
   "source": [
    "weather_info('Roma')"
   ]
  },
  {
   "cell_type": "code",
   "execution_count": 19,
   "id": "94b57f76",
   "metadata": {},
   "outputs": [],
   "source": [
    "temp = weather_info(city_name)[0]\n",
    "feelslike = weather_info(city_name)[1]\n",
    "temp_min = weather_info(city_name)[2]\n",
    "sunrise = weather_info(city_name)[3]\n",
    "sunset = weather_info(city_name)[4]"
   ]
  },
  {
   "cell_type": "code",
   "execution_count": 43,
   "id": "10bcfbf6",
   "metadata": {},
   "outputs": [
    {
     "data": {
      "text/plain": [
       "'13:25:44'"
      ]
     },
     "execution_count": 43,
     "metadata": {},
     "output_type": "execute_result"
    }
   ],
   "source": [
    "import datetime\n",
    "\n",
    "sunrise_time  = str(datetime.datetime.fromtimestamp(sunrise))\n",
    "sunrise_time  = sunrise_time.split()\n",
    "sunrise_time[1]"
   ]
  },
  {
   "cell_type": "code",
   "execution_count": 53,
   "id": "25b7dcfe",
   "metadata": {},
   "outputs": [],
   "source": [
    "import datetime\n",
    "import time\n",
    "\n",
    "def to_datetime(float_data):\n",
    "    hr = time.localtime(float_data).tm_hour\n",
    "    min = time.localtime(float_data).tm_min\n",
    "\n",
    "    return(f'{hr}:{min}')"
   ]
  },
  {
   "cell_type": "code",
   "execution_count": 54,
   "id": "24eb9e32",
   "metadata": {},
   "outputs": [
    {
     "data": {
      "text/plain": [
       "'11:39'"
      ]
     },
     "execution_count": 54,
     "metadata": {},
     "output_type": "execute_result"
    }
   ],
   "source": [
    "to_datetime(1747129197)"
   ]
  }
 ],
 "metadata": {
  "kernelspec": {
   "display_name": "Python 3",
   "language": "python",
   "name": "python3"
  },
  "language_info": {
   "codemirror_mode": {
    "name": "ipython",
    "version": 3
   },
   "file_extension": ".py",
   "mimetype": "text/x-python",
   "name": "python",
   "nbconvert_exporter": "python",
   "pygments_lexer": "ipython3",
   "version": "3.11.9"
  }
 },
 "nbformat": 4,
 "nbformat_minor": 5
}
